{
 "cells": [
  {
   "cell_type": "code",
   "execution_count": 38,
   "metadata": {},
   "outputs": [],
   "source": [
    "# send message size, send message via 5 processes,\n",
    "# count untill anwer to message size returns\n",
    "import pickle\n",
    "import hashlib\n",
    "import socket\n",
    "from multiprocessing import Process, Queue\n",
    "import os"
   ]
  },
  {
   "cell_type": "code",
   "execution_count": 39,
   "metadata": {},
   "outputs": [],
   "source": [
    "# insert IP of reciever\n",
    "HOST = '192.168.178.3'\n",
    "SIZE = 200000000\n",
    "NUMTHREADS = 20"
   ]
  },
  {
   "cell_type": "code",
   "execution_count": 40,
   "metadata": {},
   "outputs": [],
   "source": [
    "def init():\n",
    "    return socket.socket(socket.AF_INET, socket.SOCK_STREAM)"
   ]
  },
  {
   "cell_type": "code",
   "execution_count": 41,
   "metadata": {},
   "outputs": [],
   "source": [
    "def connect(sock, host, port):\n",
    "    sock.connect((host, port))"
   ]
  },
  {
   "cell_type": "code",
   "execution_count": 42,
   "metadata": {},
   "outputs": [],
   "source": [
    "# socket is hot untill closed by server\n",
    "def send(sock, msg):\n",
    "    sock.sendall(msg)"
   ]
  },
  {
   "cell_type": "code",
   "execution_count": 45,
   "metadata": {},
   "outputs": [],
   "source": [
    "def start(PORT0, sendFile, times_queue):\n",
    "    # create hash\n",
    "    md5_hash = hashlib.md5()\n",
    "    md5_hash.update(sendFile)\n",
    "    file_hash = md5_hash.hexdigest()\n",
    "#     print('file_hash ', file_hash)\n",
    "    \n",
    "    # setup socket\n",
    "    sock = init()\n",
    "    connect(sock, HOST, PORT0)\n",
    "\n",
    "    # send len of object\n",
    "    length = str(len(sendFile))\n",
    "    send(sock, length.encode('utf-8'))\n",
    "    \n",
    "    # wait for answer\n",
    "    sock.recv(1024)\n",
    "    \n",
    "    # send hash value\n",
    "    send(sock, file_hash.encode('utf-8'))\n",
    "    \n",
    "    # wait for answer\n",
    "    sock.recv(1024)\n",
    "\n",
    "    # start sending\n",
    "    send(sock, sendFile)\n",
    "    \n",
    "    # wait for duration\n",
    "    timer = sock.recv(1024).decode('utf8')\n",
    "    print('timer: ', timer)\n",
    "    if timer == '-1':\n",
    "        return\n",
    "    times_queue.put(timer)"
   ]
  },
  {
   "cell_type": "markdown",
   "metadata": {},
   "source": [
    "**start sub.run_single() on server to test single connection speed**"
   ]
  },
  {
   "cell_type": "code",
   "execution_count": 49,
   "metadata": {},
   "outputs": [],
   "source": [
    "times_single = Queue()\n",
    "bigFile = os.urandom(SIZE)\n",
    "\n",
    "start(11141, bigFile, times_single)\n",
    "print(times_single.qsize())"
   ]
  },
  {
   "cell_type": "code",
   "execution_count": 50,
   "metadata": {
    "scrolled": true
   },
   "outputs": [],
   "source": [
    "# print single duration\n",
    "duration = float(times_single.get())\n",
    "print(SIZE/(duration*1000000), 'MB/s')"
   ]
  },
  {
   "cell_type": "markdown",
   "metadata": {},
   "source": [
    "**start sub.run() on server to test multiple connection speed**\n",
    "\n",
    "*can throw some errors, but should keep working*"
   ]
  },
  {
   "cell_type": "code",
   "execution_count": 51,
   "metadata": {
    "scrolled": true
   },
   "outputs": [],
   "source": [
    "times_threads = Queue()\n",
    "size = int(SIZE/NUMTHREADS)\n",
    "newFile = os.urandom(size)\n",
    "print(times_threads.qsize())\n",
    "processes = []\n",
    "for i in range(NUMTHREADS):\n",
    "    process = Process(target=start, args=(11111 + i, newFile, times_threads))\n",
    "    process.start()\n",
    "    processes.append(process)\n",
    "for j in processes:\n",
    "    j.join()\n",
    "print(times_threads.qsize())\n",
    "    "
   ]
  },
  {
   "cell_type": "code",
   "execution_count": 52,
   "metadata": {
    "scrolled": true
   },
   "outputs": [],
   "source": [
    "print(times_threads.qsize())\n",
    "duration_threads = 0\n",
    "counter_threads = times_threads.qsize()\n",
    "while not times_threads.empty():\n",
    "    value = float(times_threads.get())\n",
    "    print(value)\n",
    "    if value > 0:\n",
    "        duration_threads += value\n",
    "print('i was sending with a rate of')\n",
    "if not duration_threads == 0:\n",
    "    print((size*counter_threads)/(duration_threads*1000000), 'MB/s')"
   ]
  },
  {
   "cell_type": "code",
   "execution_count": null,
   "metadata": {},
   "outputs": [],
   "source": []
  }
 ],
 "metadata": {
  "kernelspec": {
   "display_name": "Python 3",
   "language": "python",
   "name": "python3"
  },
  "language_info": {
   "codemirror_mode": {
    "name": "ipython",
    "version": 3
   },
   "file_extension": ".py",
   "mimetype": "text/x-python",
   "name": "python",
   "nbconvert_exporter": "python",
   "pygments_lexer": "ipython3",
   "version": "3.8.5"
  }
 },
 "nbformat": 4,
 "nbformat_minor": 4
}
